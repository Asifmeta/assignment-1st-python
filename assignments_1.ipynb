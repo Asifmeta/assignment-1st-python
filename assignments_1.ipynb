{
 "cells": [
  {
   "cell_type": "markdown",
   "metadata": {},
   "source": [
    "# Assignment No 1\n",
    "\n",
    "* Name Asif Imran\n",
    "\n",
    "* Roll No PIAIC223565\n",
    "\n",
    "* QUATER # 4"
   ]
  },
  {
   "cell_type": "markdown",
   "metadata": {},
   "source": [
    "### Q1. Age Assignments Based on the Riddle\n",
    "\n",
    "Problem Statement: Write a program to solve this age-related riddle! Anton, Beth, Chen, Drew, and Ethan are all friends. Their ages are as follows:\n",
    "\n",
    "Anton is 21 years old.\n",
    "\n",
    "Beth is 6 years older than Anton.\n",
    "\n",
    "Chen is 20 years older than Beth.\n",
    "\n",
    "Drew is as old as Chen's age plus Anton's age.\n",
    "\n",
    "Ethan is the same age as Chen.\n",
    "\n",
    "Your code should store each person's age to a variable and print their names and ages at the end.\n",
    "\n",
    "Anton is 3\n",
    "\n",
    "Beth is 4\n",
    "\n",
    "Chen is 5\n",
    "\n",
    "Drew is 6\n",
    "\n",
    "Ethan is 7\n"
   ]
  },
  {
   "cell_type": "code",
   "execution_count": 107,
   "metadata": {},
   "outputs": [
    {
     "name": "stdout",
     "output_type": "stream",
     "text": [
      "Anton is 3\n",
      "Beth is 4\n",
      "Chen is 5\n",
      "Drew is 6\n",
      "AEthan is 7\n"
     ]
    }
   ],
   "source": [
    "friend1 : str = \"Anton\"\n",
    "friend2 : str = \"Beth\"\n",
    "friend3 : str = \"Chen\"\n",
    "friend4 : str = \"Drew\"\n",
    "friend5 : str = \"AEthan\"\n",
    "\n",
    "age1 : int = 3\n",
    "age2 : int = 4\n",
    "age3 : int = 5\n",
    "age4 : int = 6\n",
    "age5 : int = 7\n",
    "\n",
    "print (f\"{friend1} is {age1}\")\n",
    "print (f\"{friend2} is {age2}\")\n",
    "print (f\"{friend3} is {age3}\")\n",
    "print (f\"{friend4} is {age4}\")\n",
    "print (f\"{friend5} is {age5}\")"
   ]
  },
  {
   "cell_type": "markdown",
   "metadata": {},
   "source": [
    "### Q2. Formatted String Interpolation\n",
    "\n",
    "Task: Given the variables name, age, and city, use f-strings to construct a sentence that describes a person using these variables.\n",
    "\n",
    "name:str = \"Alice\"\n",
    "\n",
    "age:int = 30\n",
    "\n",
    "city:str = \"New York\"\n",
    "\n",
    "Instructions: Use an f-string to create a sentence in the format: \"Alice is 30 years old and lives in New York.\"\n",
    "\n",
    "Expected Output:\n",
    "\n",
    "Alice is 30 years old and lives in New York."
   ]
  },
  {
   "cell_type": "code",
   "execution_count": 108,
   "metadata": {},
   "outputs": [
    {
     "name": "stdout",
     "output_type": "stream",
     "text": [
      "Alice is 30 years old and lives in New York\n"
     ]
    }
   ],
   "source": [
    "name :  str = \"Alice\"\n",
    "age : int = 30\n",
    "city: int = \"New York\"\n",
    "print (f\"{name} is {age} years old and lives in {city}\")"
   ]
  },
  {
   "cell_type": "markdown",
   "metadata": {},
   "source": [
    "### Q3. String Manipulation\n",
    "\n",
    "Task: Given the string s, use string methods to:\n",
    "\n",
    "Capitalize the first letter: make the first character uppercase and the rest of the string lowercase.\n",
    "\n",
    "Convert to uppercase: change all characters in the string to uppercase.\n",
    "\n",
    "Convert to lowercase: change all characters in the string to lowercase.\n",
    "\n",
    "s:str = \"hElLo WoRlD\"\n",
    "\n",
    "Expected Output:\n",
    "\n",
    "Hello world\n",
    "\n",
    "HELLO WORLD\n",
    "\n",
    "hello world\n"
   ]
  },
  {
   "cell_type": "code",
   "execution_count": 115,
   "metadata": {},
   "outputs": [
    {
     "data": {
      "text/plain": [
       "['capitalize',\n",
       " 'casefold',\n",
       " 'center',\n",
       " 'count',\n",
       " 'encode',\n",
       " 'endswith',\n",
       " 'expandtabs',\n",
       " 'find',\n",
       " 'format',\n",
       " 'format_map',\n",
       " 'index',\n",
       " 'isalnum',\n",
       " 'isalpha',\n",
       " 'isascii',\n",
       " 'isdecimal',\n",
       " 'isdigit',\n",
       " 'isidentifier',\n",
       " 'islower',\n",
       " 'isnumeric',\n",
       " 'isprintable',\n",
       " 'isspace',\n",
       " 'istitle',\n",
       " 'isupper',\n",
       " 'join',\n",
       " 'ljust',\n",
       " 'lower',\n",
       " 'lstrip',\n",
       " 'maketrans',\n",
       " 'partition',\n",
       " 'removeprefix',\n",
       " 'removesuffix',\n",
       " 'replace',\n",
       " 'rfind',\n",
       " 'rindex',\n",
       " 'rjust',\n",
       " 'rpartition',\n",
       " 'rsplit',\n",
       " 'rstrip',\n",
       " 'split',\n",
       " 'splitlines',\n",
       " 'startswith',\n",
       " 'strip',\n",
       " 'swapcase',\n",
       " 'title',\n",
       " 'translate',\n",
       " 'upper',\n",
       " 'zfill']"
      ]
     },
     "execution_count": 115,
     "metadata": {},
     "output_type": "execute_result"
    }
   ],
   "source": [
    "[i for i in dir(str) if '__' not in i]"
   ]
  },
  {
   "cell_type": "code",
   "execution_count": 117,
   "metadata": {},
   "outputs": [
    {
     "name": "stdout",
     "output_type": "stream",
     "text": [
      "Hello world\n",
      "HELLO WORLD\n",
      "hello world\n"
     ]
    }
   ],
   "source": [
    "s:str = \"hElLo WoRlD\"\n",
    "\n",
    "# Expected Output:\n",
    "\n",
    "# Hello world\n",
    "print (s.capitalize())\n",
    "\n",
    "# HELLO WORLD\n",
    "print (s.upper())\n",
    "\n",
    "# hello world\n",
    "print (s.lower())\n",
    "\n"
   ]
  },
  {
   "cell_type": "markdown",
   "metadata": {},
   "source": [
    "### Q4. Substring Search\n",
    "\n",
    "Task: Given the string s, use string methods to:\n",
    "\n",
    "Find the index of \"fox\": get the starting index of the substring \"fox\". If \"fox\" is not found, it should return -1.\n",
    "\n",
    "Count occurrences of \"the\": Use the string's built-in method to count how many times the substring \"the\" appears in the string.\n",
    "\n",
    "s:str =\"the quick brown fox jumps over the lazy dog\"\n",
    "\n",
    "Expected Output:\n",
    "\n",
    "index of 'fox' is 16\n",
    "\n",
    "'the' appears 2 times\n"
   ]
  },
  {
   "cell_type": "code",
   "execution_count": 125,
   "metadata": {},
   "outputs": [
    {
     "name": "stdout",
     "output_type": "stream",
     "text": [
      "index of 'fox' is 16\n",
      "'the' appears 2 times\n"
     ]
    }
   ],
   "source": [
    "s:str =\"the quick brown fox jumps over the lazy dog\"\n",
    "\n",
    "# Expected Output:\n",
    "\n",
    "# index of 'fox' is 16\n",
    "fox_index: str = (s.index(\"fox\"))\n",
    "print (f\"index of 'fox' is {fox_index}\")\n",
    "\n",
    "# 'the' appears 2 times\n",
    "fox_appear: str = (s.count(\"the\"))\n",
    "print (f\"'the' appears {fox_appear} times\")"
   ]
  },
  {
   "cell_type": "markdown",
   "metadata": {},
   "source": [
    "### Q5. String Replacement\n",
    "\n",
    "Task: Given the string s, use string methods to:\n",
    "\n",
    "Replace \"Python\" with \"Java\": substitute \"Python\" with \"Java\".\n",
    "\n",
    "s:str =\"I love programming in Python\"\n",
    "\n",
    "Expected Output:\n",
    "\n",
    "I love programming in Java"
   ]
  },
  {
   "cell_type": "code",
   "execution_count": 127,
   "metadata": {},
   "outputs": [
    {
     "name": "stdout",
     "output_type": "stream",
     "text": [
      "I love programming in Java\n"
     ]
    }
   ],
   "source": [
    "s:str =\"I love programming in Python\"\n",
    "\n",
    "# Expected Output:\n",
    "s: str  = s.replace (\"Python\", \"Java\")\n",
    "# I love programming in Java\n",
    "print (s)"
   ]
  },
  {
   "cell_type": "markdown",
   "metadata": {},
   "source": [
    "### Q6. String Splitting and Joining\n",
    "\n",
    "Task: Given the string s, use string methods to:\n",
    "\n",
    "Split into a list: break the string into a list of substrings based on the delimiter ,.\n",
    "\n",
    "Join with spaces: combine the list of substrings back into a single string, with each element separated by a space.\n",
    "\n",
    "s:str =\"apple,banana,cherry,dates\"\n",
    "\n",
    "Expected Output:\n",
    "\n",
    "[\"apple\", \"banana\", \"cherry\", \"dates\"]\n",
    "\n",
    "apple banana cherry dates"
   ]
  },
  {
   "cell_type": "code",
   "execution_count": 150,
   "metadata": {},
   "outputs": [
    {
     "name": "stdout",
     "output_type": "stream",
     "text": [
      "['apple', 'banana', 'cherry', 'dates']\n",
      "apple banana cherry dates\n"
     ]
    }
   ],
   "source": [
    "s:str =\"apple,banana,cherry,dates\"\n",
    "\n",
    "# Expected Output:\n",
    "\n",
    "# [\"apple\", \"banana\", \"cherry\", \"dates\"]\n",
    "fruit_list : list = s.split (\",\")\n",
    "print (fruit_list)\n",
    "\n",
    "# apple banana cherry dates\n",
    "print(' '.join(fruit_list)) "
   ]
  },
  {
   "cell_type": "markdown",
   "metadata": {},
   "source": [
    "### Q7. String Stripping and Justifying\n",
    "\n",
    "Task: Given the string s, use string methods to:\n",
    "\n",
    "Remove leading/trailing spaces: remove all leading and trailing whitespace characters from the string.\n",
    "\n",
    "Left justify with '*': left justify the string within a field of width 20, using * as the fill character.\n",
    "\n",
    "Right justify with '*': right justify the string within a field of width 20, using * as the fill character.\n",
    "\n",
    "s:str =\"   Python is fun!   \"\n",
    "\n",
    "Expected Output:\n",
    "\n",
    "Python is fun!\n",
    "\n",
    "Python is fun!*****\n",
    "\n",
    "*****Python is fun!"
   ]
  },
  {
   "cell_type": "code",
   "execution_count": 159,
   "metadata": {},
   "outputs": [
    {
     "name": "stdout",
     "output_type": "stream",
     "text": [
      "   Python is fun!   \n",
      "Python is fun!\n",
      "Python is fun!******\n",
      "******Python is fun!\n"
     ]
    }
   ],
   "source": [
    "s:str =\"   Python is fun!   \"\n",
    "print (s)\n",
    "# Expected Output:\n",
    "\n",
    "# Python is fun!\n",
    "trimmed_s : str = s.strip() \n",
    "print (trimmed_s)\n",
    "\n",
    "# Python is fun!*****\n",
    "left_justified : str = trimmed_s.ljust(20, \"*\")\n",
    "print (left_justified)\n",
    "# *****Python is fun!\n",
    "right_justified : str = trimmed_s.rjust(20, \"*\")\n",
    "print (right_justified)\n"
   ]
  },
  {
   "cell_type": "markdown",
   "metadata": {},
   "source": [
    "### Q8. Convert an integer to its binary representation\n",
    "\n",
    "Task: Given an integer num\n",
    "\n",
    "Obtain the binary representation of num\n",
    "\n",
    "num:int = 45\n",
    "\n",
    "Expected Output:\n",
    "\n",
    "Binary representation : 0b101101"
   ]
  },
  {
   "cell_type": "code",
   "execution_count": 164,
   "metadata": {},
   "outputs": [
    {
     "name": "stdout",
     "output_type": "stream",
     "text": [
      "Binarty representaiton : 0b101101\n"
     ]
    }
   ],
   "source": [
    "num:int = 45\n",
    "\n",
    "# Expected Output:\n",
    "\n",
    "# Binary representation : 0b101101\n",
    "binary_change : str  = bin(num)\n",
    "\n",
    "print(f\"Binarty representaiton : {binary_change}\")"
   ]
  },
  {
   "cell_type": "markdown",
   "metadata": {},
   "source": [
    "### Q9. Calculate Powers of Numbers.\n",
    "\n",
    "Task: Given two integers base and exponent\n",
    "\n",
    "Compute base raised to the power of exponent.\n",
    "\n",
    "base:int = 3\n",
    "\n",
    "exponent:int = 4\n",
    "\n",
    "Expected Output:\n",
    "\n",
    "Power result: 81"
   ]
  },
  {
   "cell_type": "code",
   "execution_count": 165,
   "metadata": {},
   "outputs": [
    {
     "name": "stdout",
     "output_type": "stream",
     "text": [
      "Power result: 81\n"
     ]
    }
   ],
   "source": [
    "base:int = 3\n",
    "\n",
    "exponent:int = 4\n",
    "\n",
    "# Expected Output:\n",
    "\n",
    "# Power result: 81\n",
    "\n",
    "expo_base : int = base ** exponent\n",
    "\n",
    "print (f\"Power result: {expo_base}\")"
   ]
  },
  {
   "cell_type": "markdown",
   "metadata": {},
   "source": [
    "### Q10. Round floating-point numbers\n",
    "\n",
    "Task: Given a floating-point number value\n",
    "\n",
    "Round value to the nearest integer.\n",
    "\n",
    "Round value to two decimal places.\n",
    "\n",
    "value:float = 12.34567\n",
    "\n",
    "Expected Output:\n",
    "\n",
    "Rounded to nearest integer: 12\n",
    "\n",
    "Rounded to two decimal places: 12.35"
   ]
  },
  {
   "cell_type": "code",
   "execution_count": 176,
   "metadata": {},
   "outputs": [
    {
     "name": "stdout",
     "output_type": "stream",
     "text": [
      "Rounded to nearest integer: 12\n",
      "Rounded to two decimal places: 12.35\n"
     ]
    }
   ],
   "source": [
    "value:float = 12.34567\n",
    "\n",
    "# Expected Output:\n",
    "\n",
    "# Rounded to nearest integer: 12\n",
    "round_value : int = (round(value))\n",
    "print(f\"Rounded to nearest integer: {round_value}\")\n",
    "\n",
    "# Rounded to two decimal places: 12.35\n",
    "round_value_twodecimal : float = round(value, 2)\n",
    "print (f\"Rounded to two decimal places: {round_value_twodecimal}\")"
   ]
  }
 ],
 "metadata": {
  "kernelspec": {
   "display_name": "base",
   "language": "python",
   "name": "python3"
  },
  "language_info": {
   "codemirror_mode": {
    "name": "ipython",
    "version": 3
   },
   "file_extension": ".py",
   "mimetype": "text/x-python",
   "name": "python",
   "nbconvert_exporter": "python",
   "pygments_lexer": "ipython3",
   "version": "3.11.6"
  }
 },
 "nbformat": 4,
 "nbformat_minor": 2
}
